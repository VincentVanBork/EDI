{
 "cells": [
  {
   "cell_type": "code",
   "execution_count": 1,
   "metadata": {},
   "outputs": [
    {
     "name": "stdout",
     "output_type": "stream",
     "text": [
      "Hello\n",
      "              host       time method                           url  response  \\\n",
      "index                                                                          \n",
      "0      ***.novo.dk  805465029    GET                     /ksc.html       200   \n",
      "1      ***.novo.dk  805465031    GET    /images/ksclogo-medium.gif       200   \n",
      "2      ***.novo.dk  805465051    GET  /images/MOSAIC-logosmall.gif       200   \n",
      "3      ***.novo.dk  805465053    GET     /images/USA-logosmall.gif       200   \n",
      "4      ***.novo.dk  805465054    GET    /images/NASA-logosmall.gif       200   \n",
      "\n",
      "       bytes  \n",
      "index         \n",
      "0       7067  \n",
      "1       5866  \n",
      "2        363  \n",
      "3        234  \n",
      "4        786  \n"
     ]
    }
   ],
   "source": [
    "import pandas as pd\n",
    "\n",
    "print(\"Hello\")\n",
    "df = pd.read_csv(\"./data.csv\", index_col=\"index\")\n",
    "print(df.head())\n"
   ]
  },
  {
   "cell_type": "code",
   "execution_count": 2,
   "metadata": {},
   "outputs": [],
   "source": [
    "# removing all not needed GET requests\n",
    "remove_media = df[\n",
    "    df.url.str.contains(\".html\", case=False) & df.url.str.contains(\".htm\", case=False)\n",
    "    | df.url.str.endswith(\"/\")\n",
    "]\n"
   ]
  },
  {
   "cell_type": "code",
   "execution_count": 5,
   "metadata": {},
   "outputs": [
    {
     "name": "stdout",
     "output_type": "stream",
     "text": [
      "33805\n"
     ]
    }
   ],
   "source": [
    "grouped_by_host = remove_media.groupby(by=[\"host\"])\n",
    "print(len(grouped_by_host))\n",
    "# more_than_one_site = grouped_by_host.filter(lambda x: len(x) == 1)\n",
    "more_than_one_site = grouped_by_host.filter(lambda x: len(x) > 1)\n"
   ]
  },
  {
   "cell_type": "code",
   "execution_count": 11,
   "metadata": {},
   "outputs": [
    {
     "name": "stdout",
     "output_type": "stream",
     "text": [
      "12149\n"
     ]
    },
    {
     "data": {
      "text/html": [
       "<div>\n",
       "<style scoped>\n",
       "    .dataframe tbody tr th:only-of-type {\n",
       "        vertical-align: middle;\n",
       "    }\n",
       "\n",
       "    .dataframe tbody tr th {\n",
       "        vertical-align: top;\n",
       "    }\n",
       "\n",
       "    .dataframe thead th {\n",
       "        text-align: right;\n",
       "    }\n",
       "</style>\n",
       "<table border=\"1\" class=\"dataframe\">\n",
       "  <thead>\n",
       "    <tr style=\"text-align: right;\">\n",
       "      <th></th>\n",
       "      <th>host</th>\n",
       "      <th>time</th>\n",
       "      <th>method</th>\n",
       "      <th>url</th>\n",
       "      <th>response</th>\n",
       "      <th>bytes</th>\n",
       "    </tr>\n",
       "    <tr>\n",
       "      <th>index</th>\n",
       "      <th></th>\n",
       "      <th></th>\n",
       "      <th></th>\n",
       "      <th></th>\n",
       "      <th></th>\n",
       "      <th></th>\n",
       "    </tr>\n",
       "  </thead>\n",
       "  <tbody>\n",
       "    <tr>\n",
       "      <th>29</th>\n",
       "      <td>001.msy4.communique.net</td>\n",
       "      <td>809765747</td>\n",
       "      <td>GET</td>\n",
       "      <td>/software/winvn/winvn.html</td>\n",
       "      <td>200</td>\n",
       "      <td>9630</td>\n",
       "    </tr>\n",
       "    <tr>\n",
       "      <th>126</th>\n",
       "      <td>01.ts01.zircon.net.au</td>\n",
       "      <td>808994766</td>\n",
       "      <td>GET</td>\n",
       "      <td>/facts/faq04.html</td>\n",
       "      <td>200</td>\n",
       "      <td>27063</td>\n",
       "    </tr>\n",
       "    <tr>\n",
       "      <th>130</th>\n",
       "      <td>02-17-05.comsvc.calpoly.edu</td>\n",
       "      <td>809622206</td>\n",
       "      <td>GET</td>\n",
       "      <td>/shuttle/missions/sts-65/mission-sts-65.html</td>\n",
       "      <td>200</td>\n",
       "      <td>131166</td>\n",
       "    </tr>\n",
       "    <tr>\n",
       "      <th>144</th>\n",
       "      <td>023.msy4.communique.net</td>\n",
       "      <td>809316635</td>\n",
       "      <td>GET</td>\n",
       "      <td>/shuttle/missions/sts-64/mission-sts-64.html</td>\n",
       "      <td>200</td>\n",
       "      <td>58811</td>\n",
       "    </tr>\n",
       "    <tr>\n",
       "      <th>228</th>\n",
       "      <td>033.msy4.communique.net</td>\n",
       "      <td>808808644</td>\n",
       "      <td>GET</td>\n",
       "      <td>/shuttle/missions/sts-66/mission-sts-66.html</td>\n",
       "      <td>200</td>\n",
       "      <td>90112</td>\n",
       "    </tr>\n",
       "    <tr>\n",
       "      <th>...</th>\n",
       "      <td>...</td>\n",
       "      <td>...</td>\n",
       "      <td>...</td>\n",
       "      <td>...</td>\n",
       "      <td>...</td>\n",
       "      <td>...</td>\n",
       "    </tr>\n",
       "    <tr>\n",
       "      <th>703565</th>\n",
       "      <td>204.250.31.223</td>\n",
       "      <td>808541537</td>\n",
       "      <td>GET</td>\n",
       "      <td>/software/winvn/winvn.html</td>\n",
       "      <td>200</td>\n",
       "      <td>9866</td>\n",
       "    </tr>\n",
       "    <tr>\n",
       "      <th>703575</th>\n",
       "      <td>204.250.34.206</td>\n",
       "      <td>808286752</td>\n",
       "      <td>GET</td>\n",
       "      <td>/images/</td>\n",
       "      <td>200</td>\n",
       "      <td>17688</td>\n",
       "    </tr>\n",
       "    <tr>\n",
       "      <th>703642</th>\n",
       "      <td>204.250.59.114</td>\n",
       "      <td>808523201</td>\n",
       "      <td>GET</td>\n",
       "      <td>/shuttle/missions/sts-69/mission-sts-69.html</td>\n",
       "      <td>200</td>\n",
       "      <td>11836</td>\n",
       "    </tr>\n",
       "    <tr>\n",
       "      <th>703657</th>\n",
       "      <td>204.250.60.169</td>\n",
       "      <td>805931587</td>\n",
       "      <td>GET</td>\n",
       "      <td>/software/winvn/winvn.html</td>\n",
       "      <td>200</td>\n",
       "      <td>9867</td>\n",
       "    </tr>\n",
       "    <tr>\n",
       "      <th>703727</th>\n",
       "      <td>204.250.67.7</td>\n",
       "      <td>806797086</td>\n",
       "      <td>GET</td>\n",
       "      <td>/software/winvn/winvn.html</td>\n",
       "      <td>200</td>\n",
       "      <td>9866</td>\n",
       "    </tr>\n",
       "  </tbody>\n",
       "</table>\n",
       "<p>12149 rows × 6 columns</p>\n",
       "</div>"
      ],
      "text/plain": [
       "                               host       time method  \\\n",
       "index                                                   \n",
       "29          001.msy4.communique.net  809765747    GET   \n",
       "126           01.ts01.zircon.net.au  808994766    GET   \n",
       "130     02-17-05.comsvc.calpoly.edu  809622206    GET   \n",
       "144         023.msy4.communique.net  809316635    GET   \n",
       "228         033.msy4.communique.net  808808644    GET   \n",
       "...                             ...        ...    ...   \n",
       "703565               204.250.31.223  808541537    GET   \n",
       "703575               204.250.34.206  808286752    GET   \n",
       "703642               204.250.59.114  808523201    GET   \n",
       "703657               204.250.60.169  805931587    GET   \n",
       "703727                 204.250.67.7  806797086    GET   \n",
       "\n",
       "                                                 url  response   bytes  \n",
       "index                                                                   \n",
       "29                        /software/winvn/winvn.html       200    9630  \n",
       "126                                /facts/faq04.html       200   27063  \n",
       "130     /shuttle/missions/sts-65/mission-sts-65.html       200  131166  \n",
       "144     /shuttle/missions/sts-64/mission-sts-64.html       200   58811  \n",
       "228     /shuttle/missions/sts-66/mission-sts-66.html       200   90112  \n",
       "...                                              ...       ...     ...  \n",
       "703565                    /software/winvn/winvn.html       200    9866  \n",
       "703575                                      /images/       200   17688  \n",
       "703642  /shuttle/missions/sts-69/mission-sts-69.html       200   11836  \n",
       "703657                    /software/winvn/winvn.html       200    9867  \n",
       "703727                    /software/winvn/winvn.html       200    9866  \n",
       "\n",
       "[12149 rows x 6 columns]"
      ]
     },
     "execution_count": 11,
     "metadata": {},
     "output_type": "execute_result"
    }
   ],
   "source": [
    "print(len(more_than_one_site.groupby(by=[\"host\"]).groups))\n",
    "more_than_one_site.groupby(by=[\"host\"]).head()\n"
   ]
  },
  {
   "cell_type": "code",
   "execution_count": null,
   "metadata": {},
   "outputs": [],
   "source": []
  },
  {
   "cell_type": "code",
   "execution_count": null,
   "metadata": {},
   "outputs": [],
   "source": []
  }
 ],
 "metadata": {
  "interpreter": {
   "hash": "953e7af9b4ffa3fac9201c3c4c32f0870cc9c43c59919448180516296b9c9144"
  },
  "kernelspec": {
   "display_name": "Python 3.9.7 64-bit ('EDI-AmZyllZo': pipenv)",
   "language": "python",
   "name": "python3"
  },
  "language_info": {
   "codemirror_mode": {
    "name": "ipython",
    "version": 3
   },
   "file_extension": ".py",
   "mimetype": "text/x-python",
   "name": "python",
   "nbconvert_exporter": "python",
   "pygments_lexer": "ipython3",
   "version": "3.9.7"
  },
  "orig_nbformat": 4
 },
 "nbformat": 4,
 "nbformat_minor": 2
}
