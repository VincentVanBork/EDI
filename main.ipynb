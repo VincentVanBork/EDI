{
 "cells": [
  {
   "cell_type": "code",
   "execution_count": 1,
   "metadata": {},
   "outputs": [
    {
     "name": "stdout",
     "output_type": "stream",
     "text": [
      "Hello\n",
      "              host       time method                           url  response  \\\n",
      "index                                                                          \n",
      "0      ***.novo.dk  805465029    GET                     /ksc.html       200   \n",
      "1      ***.novo.dk  805465031    GET    /images/ksclogo-medium.gif       200   \n",
      "2      ***.novo.dk  805465051    GET  /images/MOSAIC-logosmall.gif       200   \n",
      "3      ***.novo.dk  805465053    GET     /images/USA-logosmall.gif       200   \n",
      "4      ***.novo.dk  805465054    GET    /images/NASA-logosmall.gif       200   \n",
      "\n",
      "       bytes  \n",
      "index         \n",
      "0       7067  \n",
      "1       5866  \n",
      "2        363  \n",
      "3        234  \n",
      "4        786  \n"
     ]
    }
   ],
   "source": [
    "import pandas as pd\n",
    "print(\"Hello\")\n",
    "df = pd.read_csv(\"./data.csv\", index_col=\"index\")\n",
    "print(df.head())"
   ]
  },
  {
   "cell_type": "code",
   "execution_count": 2,
   "metadata": {},
   "outputs": [],
   "source": [
    "# removing all not needed GET requests\n",
    "remove_media = df[\n",
    "    df.url.str.contains(\".html\", case=False) &\n",
    "    df.url.str.contains(\".htm\", case=False) |\n",
    "    df.url.str.endswith(\"/\") \n",
    "]"
   ]
  },
  {
   "cell_type": "code",
   "execution_count": 9,
   "metadata": {},
   "outputs": [],
   "source": [
    "grouped_by_site = remove_media.groupby(by=[\"host\"])\n",
    "# grouped_by_site.groups"
   ]
  },
  {
   "cell_type": "code",
   "execution_count": null,
   "metadata": {},
   "outputs": [],
   "source": []
  }
 ],
 "metadata": {
  "interpreter": {
   "hash": "953e7af9b4ffa3fac9201c3c4c32f0870cc9c43c59919448180516296b9c9144"
  },
  "kernelspec": {
   "display_name": "Python 3.9.7 64-bit ('EDI-AmZyllZo': pipenv)",
   "language": "python",
   "name": "python3"
  },
  "language_info": {
   "codemirror_mode": {
    "name": "ipython",
    "version": 3
   },
   "file_extension": ".py",
   "mimetype": "text/x-python",
   "name": "python",
   "nbconvert_exporter": "python",
   "pygments_lexer": "ipython3",
   "version": "3.9.7"
  },
  "orig_nbformat": 4
 },
 "nbformat": 4,
 "nbformat_minor": 2
}
